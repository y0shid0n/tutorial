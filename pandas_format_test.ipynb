{
 "cells": [
  {
   "cell_type": "markdown",
   "metadata": {},
   "source": [
    "# pandasを1行ずつ整形してみる"
   ]
  },
  {
   "cell_type": "code",
   "execution_count": 1,
   "metadata": {
    "collapsed": true
   },
   "outputs": [],
   "source": [
    "import pandas as pd"
   ]
  },
  {
   "cell_type": "code",
   "execution_count": 3,
   "metadata": {},
   "outputs": [
    {
     "data": {
      "text/html": [
       "<div>\n",
       "<style>\n",
       "    .dataframe thead tr:only-child th {\n",
       "        text-align: right;\n",
       "    }\n",
       "\n",
       "    .dataframe thead th {\n",
       "        text-align: left;\n",
       "    }\n",
       "\n",
       "    .dataframe tbody tr th {\n",
       "        vertical-align: top;\n",
       "    }\n",
       "</style>\n",
       "<table border=\"1\" class=\"dataframe\">\n",
       "  <thead>\n",
       "    <tr style=\"text-align: right;\">\n",
       "      <th></th>\n",
       "      <th>item_name</th>\n",
       "      <th>sales</th>\n",
       "    </tr>\n",
       "  </thead>\n",
       "  <tbody>\n",
       "    <tr>\n",
       "      <th>0</th>\n",
       "      <td>item_a</td>\n",
       "      <td>2000</td>\n",
       "    </tr>\n",
       "    <tr>\n",
       "      <th>1</th>\n",
       "      <td>item_xxxxxxxxx</td>\n",
       "      <td>500</td>\n",
       "    </tr>\n",
       "  </tbody>\n",
       "</table>\n",
       "</div>"
      ],
      "text/plain": [
       "        item_name  sales\n",
       "0          item_a   2000\n",
       "1  item_xxxxxxxxx    500"
      ]
     },
     "execution_count": 3,
     "metadata": {},
     "output_type": "execute_result"
    }
   ],
   "source": [
    "df = pd.DataFrame([[\"item_a\", 2000],[\"item_xxxxxxxxx\", 500]])\n",
    "df.columns = [\"item_name\", \"sales\"]\n",
    "df.head()"
   ]
  },
  {
   "cell_type": "code",
   "execution_count": 6,
   "metadata": {},
   "outputs": [
    {
     "name": "stdout",
     "output_type": "stream",
     "text": [
      "item_a2000\n",
      "item_xxxxxxxxx500\n"
     ]
    }
   ],
   "source": [
    "# とりあえずfor文で2つセットでprintしてみる\n",
    "for key, row in df.iterrows():\n",
    "    print(str(row[0]) + str(row[1]))"
   ]
  },
  {
   "cell_type": "code",
   "execution_count": 12,
   "metadata": {},
   "outputs": [
    {
     "name": "stdout",
     "output_type": "stream",
     "text": [
      "item_xxxxxxxxx      500  \n"
     ]
    }
   ],
   "source": [
    "# format関数で整形\n",
    "print('{:<20}'.format(str(row[0])) + '{:>5}'.format(str(row[1])))"
   ]
  },
  {
   "cell_type": "code",
   "execution_count": 20,
   "metadata": {},
   "outputs": [
    {
     "name": "stdout",
     "output_type": "stream",
     "text": [
      "item_name           sales\n",
      "item_a               2000\n",
      "item_xxxxxxxxx        500\n"
     ]
    }
   ],
   "source": [
    "# とりあえずこんな感じ\n",
    "print('{:<20}'.format(str(df.columns[0])) + '{:>5}'.format(str(df.columns[1])))\n",
    "for key, row in df.iterrows():\n",
    "    print('{:<20}'.format(str(row[0])) + '{:>5}'.format(str(row[1])))"
   ]
  },
  {
   "cell_type": "code",
   "execution_count": 35,
   "metadata": {},
   "outputs": [
    {
     "name": "stdout",
     "output_type": "stream",
     "text": [
      "item_name           sales\n",
      "item_a               2000\n",
      "item_xxxxxxxxx        500\n"
     ]
    }
   ],
   "source": [
    "# 1つにまとめる\n",
    "print('{0:<20}{1:>5}'.format(str(df.columns[0]), str(df.columns[1])))\n",
    "for key, row in df.iterrows():\n",
    "    print('{0:<20}{1:>5}'.format(str(row[0]), str(row[1])))"
   ]
  },
  {
   "cell_type": "code",
   "execution_count": 45,
   "metadata": {},
   "outputs": [
    {
     "name": "stdout",
     "output_type": "stream",
     "text": [
      "item_name           sales\n",
      "item_a               2000\n",
      "item_xxxxxxxxx        500\n"
     ]
    }
   ],
   "source": [
    "# 変数を使う\n",
    "item_name_width = 20\n",
    "sales_width = 5\n",
    "\n",
    "print('{:<{width}}'.format(str(df.columns[0]), width=item_name_width) + '{:>{width}}'.format(str(df.columns[1]), width=sales_width))\n",
    "for key, row in df.iterrows():\n",
    "    print('{:<{width}}'.format(str(row[0]), width=item_name_width) + '{:>{width}}'.format(str(row[1]), width=sales_width))"
   ]
  },
  {
   "cell_type": "code",
   "execution_count": 47,
   "metadata": {},
   "outputs": [
    {
     "data": {
      "text/plain": [
       "'test      '"
      ]
     },
     "execution_count": 47,
     "metadata": {},
     "output_type": "execute_result"
    }
   ],
   "source": [
    "'{:<10}'.format('test')"
   ]
  },
  {
   "cell_type": "code",
   "execution_count": 48,
   "metadata": {},
   "outputs": [
    {
     "data": {
      "text/plain": [
       "'test      '"
      ]
     },
     "execution_count": 48,
     "metadata": {},
     "output_type": "execute_result"
    }
   ],
   "source": [
    "test_width = 10\n",
    "'{:<{width}}'.format('test', width=test_width)"
   ]
  },
  {
   "cell_type": "code",
   "execution_count": null,
   "metadata": {
    "collapsed": true
   },
   "outputs": [],
   "source": []
  }
 ],
 "metadata": {
  "kernelspec": {
   "display_name": "Python 3",
   "language": "python",
   "name": "python3"
  },
  "language_info": {
   "codemirror_mode": {
    "name": "ipython",
    "version": 3
   },
   "file_extension": ".py",
   "mimetype": "text/x-python",
   "name": "python",
   "nbconvert_exporter": "python",
   "pygments_lexer": "ipython3",
   "version": "3.6.1"
  }
 },
 "nbformat": 4,
 "nbformat_minor": 2
}
